{
 "cells": [
  {
   "cell_type": "markdown",
   "metadata": {},
   "source": [
    "## Using Keras to Build and Train Neural Networks"
   ]
  },
  {
   "cell_type": "markdown",
   "metadata": {},
   "source": [
    "In this exercise we will use a neural network to predict diabetes using the Pima Diabetes Dataset.  We will start by training a Random Forest to get a performance baseline.  Then we will use the Keras package to quickly build and train a neural network and compare the performance.  We will see how different network structures affect the performance, training time, and level of overfitting (or underfitting).\n",
    "\n",
    "## UCI Pima Diabetes Dataset\n",
    "\n",
    "* UCI ML Repositiory (http://archive.ics.uci.edu/ml/datasets/Pima+Indians+Diabetes)\n",
    "\n",
    "\n",
    "### Attributes: (all numeric-valued)\n",
    "   1. Number of times pregnant\n",
    "   2. Plasma glucose concentration a 2 hours in an oral glucose tolerance test\n",
    "   3. Diastolic blood pressure (mm Hg)\n",
    "   4. Triceps skin fold thickness (mm)\n",
    "   5. 2-Hour serum insulin (mu U/ml)\n",
    "   6. Body mass index (weight in kg/(height in m)^2)\n",
    "   7. Diabetes pedigree function\n",
    "   8. Age (years)\n",
    "   9. Class variable (0 or 1)"
   ]
  },
  {
   "cell_type": "markdown",
   "metadata": {},
   "source": [
    "The UCI Pima Diabetes Dataset which has 8 numerical predictors and a binary outcome."
   ]
  },
  {
   "cell_type": "code",
   "execution_count": 1,
   "metadata": {},
   "outputs": [],
   "source": [
    "#Preliminaries\n",
    "\n",
    "from __future__ import absolute_import, division, print_function  # Python 2/3 compatibility\n",
    "\n",
    "import warnings\n",
    "warnings.filterwarnings(\"ignore\")\n",
    "\n",
    "\n",
    "import numpy as np\n",
    "import pandas as pd\n",
    "import matplotlib.pyplot as plt\n",
    "\n",
    "from sklearn.model_selection import train_test_split\n",
    "from sklearn.preprocessing import StandardScaler\n",
    "from sklearn.metrics import confusion_matrix, precision_recall_curve, roc_auc_score, roc_curve, accuracy_score\n",
    "from sklearn.ensemble import RandomForestClassifier\n",
    "\n",
    "import seaborn as sns\n",
    "\n",
    "%matplotlib inline"
   ]
  },
  {
   "cell_type": "code",
   "execution_count": 21,
   "metadata": {},
   "outputs": [
    {
     "ename": "SyntaxError",
     "evalue": "invalid syntax (<ipython-input-21-85407ea78bde>, line 6)",
     "output_type": "error",
     "traceback": [
      "\u001b[1;36m  File \u001b[1;32m\"<ipython-input-21-85407ea78bde>\"\u001b[1;36m, line \u001b[1;32m6\u001b[0m\n\u001b[1;33m    python -c 'import tensorflow as tf; print(tf.__version__)'\u001b[0m\n\u001b[1;37m              ^\u001b[0m\n\u001b[1;31mSyntaxError\u001b[0m\u001b[1;31m:\u001b[0m invalid syntax\n"
     ]
    }
   ],
   "source": [
    "## Import Keras objects for Deep Learning\n",
    "\n",
    "from keras.models  import Sequential\n",
    "from keras.layers import Input, Dense, Flatten, Dropout, BatchNormalization\n",
    "from keras.optimizers import Adam, SGD, RMSprop"
   ]
  },
  {
   "cell_type": "code",
   "execution_count": 4,
   "metadata": {},
   "outputs": [],
   "source": [
    "## Load in the data set (Internet Access needed)\n",
    "\n",
    "##url = \"http://archive.ics.uci.edu/ml/machine-learning-databases/pima-indians-diabetes/pima-indians-diabetes.data\"\n",
    "names = [\"times_pregnant\", \"glucose_tolerance_test\", \"blood_pressure\", \"skin_thickness\", \"insulin\", \n",
    "         \"bmi\", \"pedigree_function\", \"age\", \"has_diabetes\"]\n",
    "diabetes_df = pd.read_csv('pima-indians-diabetes.data', names=names)"
   ]
  },
  {
   "cell_type": "code",
   "execution_count": 5,
   "metadata": {},
   "outputs": [
    {
     "name": "stdout",
     "output_type": "stream",
     "text": [
      "(768, 9)\n"
     ]
    },
    {
     "data": {
      "text/html": [
       "<div>\n",
       "<style scoped>\n",
       "    .dataframe tbody tr th:only-of-type {\n",
       "        vertical-align: middle;\n",
       "    }\n",
       "\n",
       "    .dataframe tbody tr th {\n",
       "        vertical-align: top;\n",
       "    }\n",
       "\n",
       "    .dataframe thead th {\n",
       "        text-align: right;\n",
       "    }\n",
       "</style>\n",
       "<table border=\"1\" class=\"dataframe\">\n",
       "  <thead>\n",
       "    <tr style=\"text-align: right;\">\n",
       "      <th></th>\n",
       "      <th>times_pregnant</th>\n",
       "      <th>glucose_tolerance_test</th>\n",
       "      <th>blood_pressure</th>\n",
       "      <th>skin_thickness</th>\n",
       "      <th>insulin</th>\n",
       "      <th>bmi</th>\n",
       "      <th>pedigree_function</th>\n",
       "      <th>age</th>\n",
       "      <th>has_diabetes</th>\n",
       "    </tr>\n",
       "  </thead>\n",
       "  <tbody>\n",
       "    <tr>\n",
       "      <th>743</th>\n",
       "      <td>9</td>\n",
       "      <td>140</td>\n",
       "      <td>94</td>\n",
       "      <td>0</td>\n",
       "      <td>0</td>\n",
       "      <td>32.7</td>\n",
       "      <td>0.734</td>\n",
       "      <td>45</td>\n",
       "      <td>1</td>\n",
       "    </tr>\n",
       "    <tr>\n",
       "      <th>500</th>\n",
       "      <td>2</td>\n",
       "      <td>117</td>\n",
       "      <td>90</td>\n",
       "      <td>19</td>\n",
       "      <td>71</td>\n",
       "      <td>25.2</td>\n",
       "      <td>0.313</td>\n",
       "      <td>21</td>\n",
       "      <td>0</td>\n",
       "    </tr>\n",
       "    <tr>\n",
       "      <th>254</th>\n",
       "      <td>12</td>\n",
       "      <td>92</td>\n",
       "      <td>62</td>\n",
       "      <td>7</td>\n",
       "      <td>258</td>\n",
       "      <td>27.6</td>\n",
       "      <td>0.926</td>\n",
       "      <td>44</td>\n",
       "      <td>1</td>\n",
       "    </tr>\n",
       "    <tr>\n",
       "      <th>488</th>\n",
       "      <td>4</td>\n",
       "      <td>99</td>\n",
       "      <td>72</td>\n",
       "      <td>17</td>\n",
       "      <td>0</td>\n",
       "      <td>25.6</td>\n",
       "      <td>0.294</td>\n",
       "      <td>28</td>\n",
       "      <td>0</td>\n",
       "    </tr>\n",
       "    <tr>\n",
       "      <th>695</th>\n",
       "      <td>7</td>\n",
       "      <td>142</td>\n",
       "      <td>90</td>\n",
       "      <td>24</td>\n",
       "      <td>480</td>\n",
       "      <td>30.4</td>\n",
       "      <td>0.128</td>\n",
       "      <td>43</td>\n",
       "      <td>1</td>\n",
       "    </tr>\n",
       "  </tbody>\n",
       "</table>\n",
       "</div>"
      ],
      "text/plain": [
       "     times_pregnant  glucose_tolerance_test  blood_pressure  skin_thickness  \\\n",
       "743               9                     140              94               0   \n",
       "500               2                     117              90              19   \n",
       "254              12                      92              62               7   \n",
       "488               4                      99              72              17   \n",
       "695               7                     142              90              24   \n",
       "\n",
       "     insulin   bmi  pedigree_function  age  has_diabetes  \n",
       "743        0  32.7              0.734   45             1  \n",
       "500       71  25.2              0.313   21             0  \n",
       "254      258  27.6              0.926   44             1  \n",
       "488        0  25.6              0.294   28             0  \n",
       "695      480  30.4              0.128   43             1  "
      ]
     },
     "execution_count": 5,
     "metadata": {},
     "output_type": "execute_result"
    }
   ],
   "source": [
    "# Take a peek at the data -- if there are lots of \"NaN\" you may have internet connectivity issues\n",
    "print(diabetes_df.shape)\n",
    "diabetes_df.sample(5)"
   ]
  },
  {
   "cell_type": "code",
   "execution_count": 6,
   "metadata": {},
   "outputs": [],
   "source": [
    "X = diabetes_df.iloc[:, :-1].values\n",
    "y = diabetes_df[\"has_diabetes\"].values"
   ]
  },
  {
   "cell_type": "code",
   "execution_count": 7,
   "metadata": {},
   "outputs": [],
   "source": [
    "# Split the data to Train, and Test (75%, 25%)\n",
    "\n",
    "X_train, X_test, y_train, y_test = train_test_split(X, y, test_size=0.25, random_state=11111)"
   ]
  },
  {
   "cell_type": "code",
   "execution_count": 8,
   "metadata": {},
   "outputs": [
    {
     "data": {
      "text/plain": [
       "(0.3489583333333333, 0.6510416666666666)"
      ]
     },
     "execution_count": 8,
     "metadata": {},
     "output_type": "execute_result"
    }
   ],
   "source": [
    "np.mean(y), np.mean(1-y)"
   ]
  },
  {
   "cell_type": "markdown",
   "metadata": {},
   "source": [
    "Above, we see that about 35% of the patients in this dataset have diabetes, while 65% do not.  This means we can get an accuracy of 65% without any model - just declare that no one has diabetes. We will calculate the ROC-AUC score to evaluate performance of our model, and also look at the accuracy as well to see if we improved upon the 65% accuracy.\n",
    "## Exercise: Get a baseline performance using Random Forest\n",
    "To begin, and get a baseline for classifier performance:\n",
    "1. Train a Random Forest model with 200 trees on the training data.\n",
    "2. Calculate the accuracy and roc_auc_score of the predictions."
   ]
  },
  {
   "cell_type": "code",
   "execution_count": 9,
   "metadata": {},
   "outputs": [
    {
     "data": {
      "text/plain": [
       "RandomForestClassifier(n_estimators=200)"
      ]
     },
     "execution_count": 9,
     "metadata": {},
     "output_type": "execute_result"
    }
   ],
   "source": [
    "## Train the RF Model\n",
    "rf_model = RandomForestClassifier(n_estimators=200)\n",
    "rf_model.fit(X_train, y_train)"
   ]
  },
  {
   "cell_type": "code",
   "execution_count": 10,
   "metadata": {},
   "outputs": [
    {
     "name": "stdout",
     "output_type": "stream",
     "text": [
      "accuracy is 0.776\n",
      "roc-auc is 0.841\n"
     ]
    }
   ],
   "source": [
    "# Make predictions on the test set - both \"hard\" predictions, and the scores (percent of trees voting yes)\n",
    "y_pred_class_rf = rf_model.predict(X_test)\n",
    "y_pred_prob_rf = rf_model.predict_proba(X_test)\n",
    "\n",
    "#O método \"predict_classes\" não funciona nas versões do Keras superior a 2.5 \n",
    "\n",
    "# A indicação da correção se encontra em https://keras.rstudio.com/reference/predict_proba.html#details. \n",
    "\n",
    "# usar: \n",
    "# y_pred_class_nn_1 = model_1.predict(X_test_norm)\n",
    "# y_pred_class_nn_1 = (y_pred_prob_nn_1 > 0.5).astype(\"int32\")\n",
    "\n",
    "\n",
    "\n",
    "print('accuracy is {:.3f}'.format(accuracy_score(y_test,y_pred_class_rf)))\n",
    "print('roc-auc is {:.3f}'.format(roc_auc_score(y_test,y_pred_prob_rf[:,1])))"
   ]
  },
  {
   "cell_type": "code",
   "execution_count": 11,
   "metadata": {},
   "outputs": [
    {
     "data": {
      "image/png": "[encoded data removed]",
      "text/plain": [
       "<Figure size 576x576 with 1 Axes>"
      ]
     },
     "metadata": {
      "needs_background": "light"
     },
     "output_type": "display_data"
    }
   ],
   "source": [
    "def plot_roc(y_test, y_pred, model_name):\n",
    "    fpr, tpr, thr = roc_curve(y_test, y_pred)\n",
    "    fig, ax = plt.subplots(figsize=(8, 8))\n",
    "    ax.plot(fpr, tpr, 'k-')\n",
    "    ax.plot([0, 1], [0, 1], 'k--', linewidth=.5)  # roc curve for random model\n",
    "    ax.grid(True)\n",
    "    ax.set(title='ROC Curve for {} on PIMA diabetes problem'.format(model_name),\n",
    "           xlim=[-0.01, 1.01], ylim=[-0.01, 1.01])\n",
    "\n",
    "\n",
    "plot_roc(y_test, y_pred_prob_rf[:, 1], 'RF')"
   ]
  },
  {
   "cell_type": "markdown",
   "metadata": {},
   "source": [
    "## Build a Single Hidden Layer Neural Network\n",
    "\n",
    "We will use the Sequential model to quickly build a neural network.  Our first network will be a single layer network.  We have 8 variables, so we set the input shape to 8.  Let's start by having a single hidden layer with 12 nodes."
   ]
  },
  {
   "cell_type": "code",
   "execution_count": 12,
   "metadata": {},
   "outputs": [],
   "source": [
    "## First let's normalize the data\n",
    "## This aids the training of neural nets by providing numerical stability\n",
    "## Random Forest does not need this as it finds a split only, as opposed to performing matrix multiplications\n",
    "\n",
    "\n",
    "normalizer = StandardScaler()\n",
    "X_train_norm = normalizer.fit_transform(X_train)\n",
    "X_test_norm = normalizer.transform(X_test)"
   ]
  },
  {
   "cell_type": "code",
   "execution_count": 13,
   "metadata": {},
   "outputs": [],
   "source": [
    "# Define the Model \n",
    "# Input size is 8-dimensional\n",
    "# 1 hidden layer, 12 hidden nodes, sigmoid activation\n",
    "# Final layer has just one node with a sigmoid activation (standard for binary classification)\n",
    "\n",
    "model_1 = Sequential([\n",
    "    Dense(12, input_shape=(8,), activation=\"relu\"),\n",
    "    Dense(1, activation=\"sigmoid\")\n",
    "])"
   ]
  },
  {
   "cell_type": "code",
   "execution_count": 14,
   "metadata": {},
   "outputs": [
    {
     "name": "stdout",
     "output_type": "stream",
     "text": [
      "Model: \"sequential\"\n",
      "_________________________________________________________________\n",
      "Layer (type)                 Output Shape              Param #   \n",
      "=================================================================\n",
      "dense (Dense)                (None, 12)                108       \n",
      "_________________________________________________________________\n",
      "dense_1 (Dense)              (None, 1)                 13        \n",
      "=================================================================\n",
      "Total params: 121\n",
      "Trainable params: 121\n",
      "Non-trainable params: 0\n",
      "_________________________________________________________________\n"
     ]
    }
   ],
   "source": [
    "#  This is a nice tool to view the model you have created and count the parameters\n",
    "\n",
    "model_1.summary()"
   ]
  },
  {
   "cell_type": "markdown",
   "metadata": {},
   "source": [
    "### Comprehension question:\n",
    "Why do we have 121 parameters?  Does that make sense?\n",
    "\n",
    "\n",
    "Let's fit our model for 200 epochs."
   ]
  },
  {
   "cell_type": "code",
   "execution_count": 15,
   "metadata": {},
   "outputs": [
    {
     "name": "stdout",
     "output_type": "stream",
     "text": [
      "Epoch 1/200\n",
      "18/18 [==============================] - 0s 7ms/step - loss: 0.7919 - accuracy: 0.4410 - val_loss: 0.8090 - val_accuracy: 0.4375\n",
      "Epoch 2/200\n",
      "18/18 [==============================] - 0s 1ms/step - loss: 0.7846 - accuracy: 0.4583 - val_loss: 0.8019 - val_accuracy: 0.4479\n",
      "Epoch 3/200\n",
      "18/18 [==============================] - 0s 1ms/step - loss: 0.7776 - accuracy: 0.4670 - val_loss: 0.7952 - val_accuracy: 0.4583\n",
      "Epoch 4/200\n",
      "18/18 [==============================] - 0s 1ms/step - loss: 0.7708 - accuracy: 0.4757 - val_loss: 0.7887 - val_accuracy: 0.4583\n",
      "Epoch 5/200\n",
      "18/18 [==============================] - 0s 1ms/step - loss: 0.7644 - accuracy: 0.4774 - val_loss: 0.7824 - val_accuracy: 0.4583\n",
      "Epoch 6/200\n",
      "18/18 [==============================] - 0s 1ms/step - loss: 0.7583 - accuracy: 0.4809 - val_loss: 0.7764 - val_accuracy: 0.4635\n",
      "Epoch 7/200\n",
      "18/18 [==============================] - 0s 1ms/step - loss: 0.7524 - accuracy: 0.4948 - val_loss: 0.7706 - val_accuracy: 0.4792\n",
      "Epoch 8/200\n",
      "18/18 [==============================] - 0s 1ms/step - loss: 0.7467 - accuracy: 0.5122 - val_loss: 0.7651 - val_accuracy: 0.4844\n",
      "Epoch 9/200\n",
      "18/18 [==============================] - 0s 1ms/step - loss: 0.7413 - accuracy: 0.5174 - val_loss: 0.7596 - val_accuracy: 0.4896\n",
      "Epoch 10/200\n",
      "18/18 [==============================] - 0s 1ms/step - loss: 0.7360 - accuracy: 0.5243 - val_loss: 0.7544 - val_accuracy: 0.4948\n",
      "Epoch 11/200\n",
      "18/18 [==============================] - 0s 1ms/step - loss: 0.7309 - accuracy: 0.5295 - val_loss: 0.7494 - val_accuracy: 0.5000\n",
      "Epoch 12/200\n",
      "18/18 [==============================] - 0s 1ms/step - loss: 0.7260 - accuracy: 0.5399 - val_loss: 0.7445 - val_accuracy: 0.5104\n",
      "Epoch 13/200\n",
      "18/18 [==============================] - 0s 1ms/step - loss: 0.7213 - accuracy: 0.5556 - val_loss: 0.7398 - val_accuracy: 0.5208\n",
      "Epoch 14/200\n",
      "18/18 [==============================] - 0s 1ms/step - loss: 0.7168 - accuracy: 0.5625 - val_loss: 0.7352 - val_accuracy: 0.5365\n",
      "Epoch 15/200\n",
      "18/18 [==============================] - 0s 1ms/step - loss: 0.7124 - accuracy: 0.5729 - val_loss: 0.7308 - val_accuracy: 0.5417\n",
      "Epoch 16/200\n",
      "18/18 [==============================] - 0s 1ms/step - loss: 0.7081 - accuracy: 0.5920 - val_loss: 0.7264 - val_accuracy: 0.5417\n",
      "Epoch 17/200\n",
      "18/18 [==============================] - 0s 1ms/step - loss: 0.7040 - accuracy: 0.5938 - val_loss: 0.7222 - val_accuracy: 0.5573\n",
      "Epoch 18/200\n",
      "18/18 [==============================] - 0s 1ms/step - loss: 0.7000 - accuracy: 0.6059 - val_loss: 0.7181 - val_accuracy: 0.5625\n",
      "Epoch 19/200\n",
      "18/18 [==============================] - 0s 1ms/step - loss: 0.6962 - accuracy: 0.6111 - val_loss: 0.7141 - val_accuracy: 0.5625\n",
      "Epoch 20/200\n",
      "18/18 [==============================] - 0s 1ms/step - loss: 0.6924 - accuracy: 0.6181 - val_loss: 0.7102 - val_accuracy: 0.5625\n",
      "Epoch 21/200\n",
      "18/18 [==============================] - 0s 2ms/step - loss: 0.6888 - accuracy: 0.6198 - val_loss: 0.7064 - val_accuracy: 0.5677\n",
      "Epoch 22/200\n",
      "18/18 [==============================] - 0s 1ms/step - loss: 0.6852 - accuracy: 0.6198 - val_loss: 0.7027 - val_accuracy: 0.5729\n",
      "Epoch 23/200\n",
      "18/18 [==============================] - 0s 1ms/step - loss: 0.6817 - accuracy: 0.6233 - val_loss: 0.6990 - val_accuracy: 0.5781\n",
      "Epoch 24/200\n",
      "18/18 [==============================] - 0s 1ms/step - loss: 0.6784 - accuracy: 0.6267 - val_loss: 0.6955 - val_accuracy: 0.5938\n",
      "Epoch 25/200\n",
      "18/18 [==============================] - 0s 1ms/step - loss: 0.6750 - accuracy: 0.6337 - val_loss: 0.6920 - val_accuracy: 0.6042\n",
      "Epoch 26/200\n",
      "18/18 [==============================] - 0s 1ms/step - loss: 0.6717 - accuracy: 0.6406 - val_loss: 0.6886 - val_accuracy: 0.6094\n",
      "Epoch 27/200\n",
      "18/18 [==============================] - 0s 1ms/step - loss: 0.6685 - accuracy: 0.6406 - val_loss: 0.6852 - val_accuracy: 0.6146\n",
      "Epoch 28/200\n",
      "18/18 [==============================] - 0s 1ms/step - loss: 0.6654 - accuracy: 0.6458 - val_loss: 0.6818 - val_accuracy: 0.6250\n",
      "Epoch 29/200\n",
      "18/18 [==============================] - 0s 1ms/step - loss: 0.6622 - accuracy: 0.6528 - val_loss: 0.6786 - val_accuracy: 0.6250\n",
      "Epoch 30/200\n",
      "18/18 [==============================] - 0s 1ms/step - loss: 0.6592 - accuracy: 0.6562 - val_loss: 0.6754 - val_accuracy: 0.6302\n",
      "Epoch 31/200\n",
      "18/18 [==============================] - 0s 1ms/step - loss: 0.6562 - accuracy: 0.6580 - val_loss: 0.6722 - val_accuracy: 0.6354\n",
      "Epoch 32/200\n",
      "18/18 [==============================] - 0s 1ms/step - loss: 0.6533 - accuracy: 0.6597 - val_loss: 0.6692 - val_accuracy: 0.6406\n",
      "Epoch 33/200\n",
      "18/18 [==============================] - 0s 1ms/step - loss: 0.6504 - accuracy: 0.6649 - val_loss: 0.6662 - val_accuracy: 0.6458\n",
      "Epoch 34/200\n",
      "18/18 [==============================] - 0s 1ms/step - loss: 0.6476 - accuracy: 0.6701 - val_loss: 0.6632 - val_accuracy: 0.6458\n",
      "Epoch 35/200\n",
      "18/18 [==============================] - 0s 1ms/step - loss: 0.6448 - accuracy: 0.6771 - val_loss: 0.6604 - val_accuracy: 0.6458\n",
      "Epoch 36/200\n",
      "18/18 [==============================] - 0s 1ms/step - loss: 0.6420 - accuracy: 0.6806 - val_loss: 0.6575 - val_accuracy: 0.6458\n",
      "Epoch 37/200\n",
      "18/18 [==============================] - 0s 1ms/step - loss: 0.6393 - accuracy: 0.6875 - val_loss: 0.6547 - val_accuracy: 0.6458\n",
      "Epoch 38/200\n",
      "18/18 [==============================] - 0s 1ms/step - loss: 0.6367 - accuracy: 0.6910 - val_loss: 0.6520 - val_accuracy: 0.6458\n",
      "Epoch 39/200\n",
      "18/18 [==============================] - 0s 1ms/step - loss: 0.6342 - accuracy: 0.6910 - val_loss: 0.6494 - val_accuracy: 0.6458\n",
      "Epoch 40/200\n",
      "18/18 [==============================] - 0s 1ms/step - loss: 0.6317 - accuracy: 0.6910 - val_loss: 0.6468 - val_accuracy: 0.6458\n",
      "Epoch 41/200\n",
      "18/18 [==============================] - 0s 1ms/step - loss: 0.6293 - accuracy: 0.6910 - val_loss: 0.6442 - val_accuracy: 0.6458\n",
      "Epoch 42/200\n",
      "18/18 [==============================] - 0s 1ms/step - loss: 0.6269 - accuracy: 0.6927 - val_loss: 0.6417 - val_accuracy: 0.6458\n",
      "Epoch 43/200\n",
      "18/18 [==============================] - ETA: 0s - loss: 0.6368 - accuracy: 0.56 - 0s 1ms/step - loss: 0.6245 - accuracy: 0.6927 - val_loss: 0.6393 - val_accuracy: 0.6458\n",
      "Epoch 44/200\n",
      "18/18 [==============================] - 0s 1ms/step - loss: 0.6222 - accuracy: 0.6944 - val_loss: 0.6369 - val_accuracy: 0.6458\n",
      "Epoch 45/200\n",
      "18/18 [==============================] - 0s 1ms/step - loss: 0.6200 - accuracy: 0.6979 - val_loss: 0.6345 - val_accuracy: 0.6458\n",
      "Epoch 46/200\n",
      "18/18 [==============================] - 0s 1ms/step - loss: 0.6177 - accuracy: 0.7031 - val_loss: 0.6322 - val_accuracy: 0.6510\n",
      "Epoch 47/200\n",
      "18/18 [==============================] - 0s 1ms/step - loss: 0.6156 - accuracy: 0.7031 - val_loss: 0.6299 - val_accuracy: 0.6562\n",
      "Epoch 48/200\n",
      "18/18 [==============================] - 0s 1ms/step - loss: 0.6134 - accuracy: 0.7014 - val_loss: 0.6276 - val_accuracy: 0.6615\n",
      "Epoch 49/200\n",
      "18/18 [==============================] - 0s 1ms/step - loss: 0.6113 - accuracy: 0.7031 - val_loss: 0.6253 - val_accuracy: 0.6719\n",
      "Epoch 50/200\n",
      "18/18 [==============================] - 0s 1ms/step - loss: 0.6092 - accuracy: 0.7049 - val_loss: 0.6231 - val_accuracy: 0.6719\n",
      "Epoch 51/200\n",
      "18/18 [==============================] - 0s 1ms/step - loss: 0.6071 - accuracy: 0.7049 - val_loss: 0.6208 - val_accuracy: 0.6719\n",
      "Epoch 52/200\n",
      "18/18 [==============================] - 0s 1ms/step - loss: 0.6051 - accuracy: 0.7049 - val_loss: 0.6187 - val_accuracy: 0.6719\n",
      "Epoch 53/200\n",
      "18/18 [==============================] - 0s 1ms/step - loss: 0.6031 - accuracy: 0.7066 - val_loss: 0.6165 - val_accuracy: 0.6771\n",
      "Epoch 54/200\n",
      "18/18 [==============================] - 0s 1ms/step - loss: 0.6011 - accuracy: 0.7101 - val_loss: 0.6144 - val_accuracy: 0.6771\n",
      "Epoch 55/200\n",
      "18/18 [==============================] - 0s 1ms/step - loss: 0.5992 - accuracy: 0.7118 - val_loss: 0.6123 - val_accuracy: 0.6823\n",
      "Epoch 56/200\n",
      "18/18 [==============================] - 0s 1ms/step - loss: 0.5973 - accuracy: 0.7118 - val_loss: 0.6103 - val_accuracy: 0.6875\n",
      "Epoch 57/200\n",
      "18/18 [==============================] - 0s 1ms/step - loss: 0.5954 - accuracy: 0.7153 - val_loss: 0.6082 - val_accuracy: 0.6927\n",
      "Epoch 58/200\n",
      "18/18 [==============================] - 0s 1ms/step - loss: 0.5935 - accuracy: 0.7118 - val_loss: 0.6062 - val_accuracy: 0.6927\n",
      "Epoch 59/200\n",
      "18/18 [==============================] - 0s 1ms/step - loss: 0.5916 - accuracy: 0.7170 - val_loss: 0.6043 - val_accuracy: 0.6927\n",
      "Epoch 60/200\n",
      "18/18 [==============================] - 0s 1ms/step - loss: 0.5898 - accuracy: 0.7170 - val_loss: 0.6024 - val_accuracy: 0.6875\n",
      "Epoch 61/200\n",
      "18/18 [==============================] - 0s 1ms/step - loss: 0.5880 - accuracy: 0.7170 - val_loss: 0.6005 - val_accuracy: 0.6979\n",
      "Epoch 62/200\n",
      "18/18 [==============================] - 0s 2ms/step - loss: 0.5862 - accuracy: 0.7153 - val_loss: 0.5986 - val_accuracy: 0.7083\n",
      "Epoch 63/200\n",
      "18/18 [==============================] - 0s 1ms/step - loss: 0.5845 - accuracy: 0.7153 - val_loss: 0.5968 - val_accuracy: 0.7135\n",
      "Epoch 64/200\n",
      "18/18 [==============================] - 0s 1ms/step - loss: 0.5828 - accuracy: 0.7153 - val_loss: 0.5951 - val_accuracy: 0.7135\n",
      "Epoch 65/200\n",
      "18/18 [==============================] - 0s 1ms/step - loss: 0.5811 - accuracy: 0.7153 - val_loss: 0.5933 - val_accuracy: 0.7135\n",
      "Epoch 66/200\n",
      "18/18 [==============================] - 0s 1ms/step - loss: 0.5794 - accuracy: 0.7135 - val_loss: 0.5916 - val_accuracy: 0.7135\n",
      "Epoch 67/200\n",
      "18/18 [==============================] - 0s 1ms/step - loss: 0.5778 - accuracy: 0.7135 - val_loss: 0.5899 - val_accuracy: 0.7135\n",
      "Epoch 68/200\n",
      "18/18 [==============================] - 0s 2ms/step - loss: 0.5762 - accuracy: 0.7135 - val_loss: 0.5882 - val_accuracy: 0.7135\n",
      "Epoch 69/200\n",
      "18/18 [==============================] - 0s 1ms/step - loss: 0.5746 - accuracy: 0.7135 - val_loss: 0.5866 - val_accuracy: 0.7135\n",
      "Epoch 70/200\n",
      "18/18 [==============================] - 0s 1ms/step - loss: 0.5730 - accuracy: 0.7118 - val_loss: 0.5850 - val_accuracy: 0.7135\n",
      "Epoch 71/200\n",
      "18/18 [==============================] - 0s 1ms/step - loss: 0.5715 - accuracy: 0.7135 - val_loss: 0.5834 - val_accuracy: 0.7135\n",
      "Epoch 72/200\n",
      "18/18 [==============================] - 0s 1ms/step - loss: 0.5700 - accuracy: 0.7135 - val_loss: 0.5818 - val_accuracy: 0.7135\n",
      "Epoch 73/200\n",
      "18/18 [==============================] - 0s 1ms/step - loss: 0.5685 - accuracy: 0.7170 - val_loss: 0.5803 - val_accuracy: 0.7135\n",
      "Epoch 74/200\n",
      "18/18 [==============================] - 0s 1ms/step - loss: 0.5670 - accuracy: 0.7170 - val_loss: 0.5789 - val_accuracy: 0.7135\n",
      "Epoch 75/200\n",
      "18/18 [==============================] - 0s 1ms/step - loss: 0.5655 - accuracy: 0.7170 - val_loss: 0.5774 - val_accuracy: 0.7240\n",
      "Epoch 76/200\n",
      "18/18 [==============================] - 0s 1ms/step - loss: 0.5641 - accuracy: 0.7170 - val_loss: 0.5760 - val_accuracy: 0.7240\n",
      "Epoch 77/200\n",
      "18/18 [==============================] - 0s 1ms/step - loss: 0.5627 - accuracy: 0.7153 - val_loss: 0.5746 - val_accuracy: 0.7240\n",
      "Epoch 78/200\n",
      "18/18 [==============================] - 0s 2ms/step - loss: 0.5613 - accuracy: 0.7170 - val_loss: 0.5732 - val_accuracy: 0.7240\n",
      "Epoch 79/200\n",
      "18/18 [==============================] - 0s 1ms/step - loss: 0.5599 - accuracy: 0.7170 - val_loss: 0.5718 - val_accuracy: 0.7240\n",
      "Epoch 80/200\n",
      "18/18 [==============================] - 0s 1ms/step - loss: 0.5586 - accuracy: 0.7170 - val_loss: 0.5704 - val_accuracy: 0.7240\n",
      "Epoch 81/200\n",
      "18/18 [==============================] - 0s 1ms/step - loss: 0.5572 - accuracy: 0.7205 - val_loss: 0.5691 - val_accuracy: 0.7240\n",
      "Epoch 82/200\n",
      "18/18 [==============================] - 0s 1ms/step - loss: 0.5559 - accuracy: 0.7222 - val_loss: 0.5678 - val_accuracy: 0.7292\n",
      "Epoch 83/200\n",
      "18/18 [==============================] - 0s 1ms/step - loss: 0.5545 - accuracy: 0.7222 - val_loss: 0.5665 - val_accuracy: 0.7344\n",
      "Epoch 84/200\n",
      "18/18 [==============================] - 0s 1ms/step - loss: 0.5532 - accuracy: 0.7257 - val_loss: 0.5652 - val_accuracy: 0.7344\n",
      "Epoch 85/200\n",
      "18/18 [==============================] - 0s 1ms/step - loss: 0.5519 - accuracy: 0.7257 - val_loss: 0.5639 - val_accuracy: 0.7344\n",
      "Epoch 86/200\n",
      "18/18 [==============================] - 0s 998us/step - loss: 0.5506 - accuracy: 0.7274 - val_loss: 0.5627 - val_accuracy: 0.7344\n",
      "Epoch 87/200\n",
      "18/18 [==============================] - 0s 1ms/step - loss: 0.5493 - accuracy: 0.7292 - val_loss: 0.5615 - val_accuracy: 0.7292\n",
      "Epoch 88/200\n",
      "18/18 [==============================] - 0s 1ms/step - loss: 0.5480 - accuracy: 0.7326 - val_loss: 0.5602 - val_accuracy: 0.7292\n",
      "Epoch 89/200\n",
      "18/18 [==============================] - 0s 939us/step - loss: 0.5467 - accuracy: 0.7309 - val_loss: 0.5591 - val_accuracy: 0.7292\n",
      "Epoch 90/200\n",
      "18/18 [==============================] - 0s 997us/step - loss: 0.5455 - accuracy: 0.7309 - val_loss: 0.5579 - val_accuracy: 0.7396\n",
      "Epoch 91/200\n",
      "18/18 [==============================] - 0s 1ms/step - loss: 0.5442 - accuracy: 0.7344 - val_loss: 0.5567 - val_accuracy: 0.7448\n",
      "Epoch 92/200\n",
      "18/18 [==============================] - 0s 1ms/step - loss: 0.5430 - accuracy: 0.7378 - val_loss: 0.5556 - val_accuracy: 0.7500\n",
      "Epoch 93/200\n",
      "18/18 [==============================] - 0s 1ms/step - loss: 0.5418 - accuracy: 0.7361 - val_loss: 0.5545 - val_accuracy: 0.7500\n",
      "Epoch 94/200\n",
      "18/18 [==============================] - 0s 1ms/step - loss: 0.5406 - accuracy: 0.7361 - val_loss: 0.5534 - val_accuracy: 0.7448\n",
      "Epoch 95/200\n",
      "18/18 [==============================] - 0s 1ms/step - loss: 0.5395 - accuracy: 0.7361 - val_loss: 0.5524 - val_accuracy: 0.7448\n",
      "Epoch 96/200\n",
      "18/18 [==============================] - 0s 1ms/step - loss: 0.5383 - accuracy: 0.7361 - val_loss: 0.5513 - val_accuracy: 0.7500\n",
      "Epoch 97/200\n",
      "18/18 [==============================] - 0s 1ms/step - loss: 0.5371 - accuracy: 0.7378 - val_loss: 0.5503 - val_accuracy: 0.7500\n",
      "Epoch 98/200\n",
      "18/18 [==============================] - 0s 1ms/step - loss: 0.5360 - accuracy: 0.7361 - val_loss: 0.5493 - val_accuracy: 0.7448\n",
      "Epoch 99/200\n",
      "18/18 [==============================] - 0s 1ms/step - loss: 0.5349 - accuracy: 0.7361 - val_loss: 0.5482 - val_accuracy: 0.7448\n",
      "Epoch 100/200\n",
      "18/18 [==============================] - 0s 1ms/step - loss: 0.5337 - accuracy: 0.7361 - val_loss: 0.5473 - val_accuracy: 0.7448\n",
      "Epoch 101/200\n",
      "18/18 [==============================] - 0s 1ms/step - loss: 0.5326 - accuracy: 0.7344 - val_loss: 0.5463 - val_accuracy: 0.7448\n",
      "Epoch 102/200\n",
      "18/18 [==============================] - 0s 1ms/step - loss: 0.5315 - accuracy: 0.7292 - val_loss: 0.5453 - val_accuracy: 0.7396\n",
      "Epoch 103/200\n",
      "18/18 [==============================] - 0s 1ms/step - loss: 0.5305 - accuracy: 0.7309 - val_loss: 0.5444 - val_accuracy: 0.7396\n",
      "Epoch 104/200\n",
      "18/18 [==============================] - 0s 1ms/step - loss: 0.5294 - accuracy: 0.7326 - val_loss: 0.5435 - val_accuracy: 0.7396\n",
      "Epoch 105/200\n",
      "18/18 [==============================] - 0s 1ms/step - loss: 0.5284 - accuracy: 0.7344 - val_loss: 0.5425 - val_accuracy: 0.7396\n",
      "Epoch 106/200\n",
      "18/18 [==============================] - 0s 1ms/step - loss: 0.5273 - accuracy: 0.7361 - val_loss: 0.5417 - val_accuracy: 0.7396\n",
      "Epoch 107/200\n",
      "18/18 [==============================] - 0s 1ms/step - loss: 0.5263 - accuracy: 0.7361 - val_loss: 0.5408 - val_accuracy: 0.7448\n",
      "Epoch 108/200\n",
      "18/18 [==============================] - 0s 1ms/step - loss: 0.5253 - accuracy: 0.7378 - val_loss: 0.5399 - val_accuracy: 0.7448\n",
      "Epoch 109/200\n",
      "18/18 [==============================] - 0s 1ms/step - loss: 0.5244 - accuracy: 0.7396 - val_loss: 0.5391 - val_accuracy: 0.7448\n",
      "Epoch 110/200\n",
      "18/18 [==============================] - 0s 1ms/step - loss: 0.5234 - accuracy: 0.7396 - val_loss: 0.5382 - val_accuracy: 0.7552\n",
      "Epoch 111/200\n",
      "18/18 [==============================] - 0s 1ms/step - loss: 0.5224 - accuracy: 0.7413 - val_loss: 0.5374 - val_accuracy: 0.7552\n",
      "Epoch 112/200\n",
      "18/18 [==============================] - 0s 1ms/step - loss: 0.5215 - accuracy: 0.7413 - val_loss: 0.5366 - val_accuracy: 0.7552\n",
      "Epoch 113/200\n",
      "18/18 [==============================] - 0s 1ms/step - loss: 0.5205 - accuracy: 0.7413 - val_loss: 0.5359 - val_accuracy: 0.7552\n",
      "Epoch 114/200\n",
      "18/18 [==============================] - 0s 1ms/step - loss: 0.5196 - accuracy: 0.7413 - val_loss: 0.5351 - val_accuracy: 0.7552\n",
      "Epoch 115/200\n"
     ]
    },
    {
     "name": "stdout",
     "output_type": "stream",
     "text": [
      "18/18 [==============================] - 0s 1ms/step - loss: 0.5187 - accuracy: 0.7378 - val_loss: 0.5343 - val_accuracy: 0.7552\n",
      "Epoch 116/200\n",
      "18/18 [==============================] - 0s 1ms/step - loss: 0.5178 - accuracy: 0.7378 - val_loss: 0.5336 - val_accuracy: 0.7552\n",
      "Epoch 117/200\n",
      "18/18 [==============================] - 0s 1ms/step - loss: 0.5170 - accuracy: 0.7344 - val_loss: 0.5329 - val_accuracy: 0.7552\n",
      "Epoch 118/200\n",
      "18/18 [==============================] - 0s 1ms/step - loss: 0.5161 - accuracy: 0.7344 - val_loss: 0.5322 - val_accuracy: 0.7552\n",
      "Epoch 119/200\n",
      "18/18 [==============================] - 0s 1ms/step - loss: 0.5153 - accuracy: 0.7361 - val_loss: 0.5315 - val_accuracy: 0.7552\n",
      "Epoch 120/200\n",
      "18/18 [==============================] - 0s 1ms/step - loss: 0.5144 - accuracy: 0.7344 - val_loss: 0.5308 - val_accuracy: 0.7552\n",
      "Epoch 121/200\n",
      "18/18 [==============================] - 0s 1ms/step - loss: 0.5136 - accuracy: 0.7344 - val_loss: 0.5301 - val_accuracy: 0.7552\n",
      "Epoch 122/200\n",
      "18/18 [==============================] - 0s 1ms/step - loss: 0.5128 - accuracy: 0.7326 - val_loss: 0.5294 - val_accuracy: 0.7500\n",
      "Epoch 123/200\n",
      "18/18 [==============================] - 0s 1ms/step - loss: 0.5120 - accuracy: 0.7361 - val_loss: 0.5287 - val_accuracy: 0.7500\n",
      "Epoch 124/200\n",
      "18/18 [==============================] - 0s 1ms/step - loss: 0.5112 - accuracy: 0.7361 - val_loss: 0.5281 - val_accuracy: 0.7448\n",
      "Epoch 125/200\n",
      "18/18 [==============================] - 0s 1ms/step - loss: 0.5104 - accuracy: 0.7344 - val_loss: 0.5275 - val_accuracy: 0.7448\n",
      "Epoch 126/200\n",
      "18/18 [==============================] - 0s 1ms/step - loss: 0.5097 - accuracy: 0.7361 - val_loss: 0.5269 - val_accuracy: 0.7448\n",
      "Epoch 127/200\n",
      "18/18 [==============================] - 0s 1ms/step - loss: 0.5089 - accuracy: 0.7378 - val_loss: 0.5263 - val_accuracy: 0.7448\n",
      "Epoch 128/200\n",
      "18/18 [==============================] - 0s 1ms/step - loss: 0.5082 - accuracy: 0.7378 - val_loss: 0.5257 - val_accuracy: 0.7448\n",
      "Epoch 129/200\n",
      "18/18 [==============================] - 0s 1ms/step - loss: 0.5075 - accuracy: 0.7378 - val_loss: 0.5251 - val_accuracy: 0.7448\n",
      "Epoch 130/200\n",
      "18/18 [==============================] - 0s 1ms/step - loss: 0.5068 - accuracy: 0.7396 - val_loss: 0.5246 - val_accuracy: 0.7448\n",
      "Epoch 131/200\n",
      "18/18 [==============================] - 0s 1ms/step - loss: 0.5061 - accuracy: 0.7396 - val_loss: 0.5240 - val_accuracy: 0.7448\n",
      "Epoch 132/200\n",
      "18/18 [==============================] - 0s 1ms/step - loss: 0.5054 - accuracy: 0.7396 - val_loss: 0.5235 - val_accuracy: 0.7500\n",
      "Epoch 133/200\n",
      "18/18 [==============================] - 0s 1ms/step - loss: 0.5047 - accuracy: 0.7396 - val_loss: 0.5229 - val_accuracy: 0.7500\n",
      "Epoch 134/200\n",
      "18/18 [==============================] - 0s 1ms/step - loss: 0.5041 - accuracy: 0.7465 - val_loss: 0.5224 - val_accuracy: 0.7500\n",
      "Epoch 135/200\n",
      "18/18 [==============================] - 0s 1ms/step - loss: 0.5034 - accuracy: 0.7465 - val_loss: 0.5219 - val_accuracy: 0.7500\n",
      "Epoch 136/200\n",
      "18/18 [==============================] - 0s 1ms/step - loss: 0.5028 - accuracy: 0.7465 - val_loss: 0.5214 - val_accuracy: 0.7604\n",
      "Epoch 137/200\n",
      "18/18 [==============================] - 0s 1ms/step - loss: 0.5021 - accuracy: 0.7465 - val_loss: 0.5209 - val_accuracy: 0.7604\n",
      "Epoch 138/200\n",
      "18/18 [==============================] - 0s 1ms/step - loss: 0.5015 - accuracy: 0.7465 - val_loss: 0.5205 - val_accuracy: 0.7604\n",
      "Epoch 139/200\n",
      "18/18 [==============================] - 0s 1ms/step - loss: 0.5009 - accuracy: 0.7448 - val_loss: 0.5200 - val_accuracy: 0.7552\n",
      "Epoch 140/200\n",
      "18/18 [==============================] - 0s 1ms/step - loss: 0.5003 - accuracy: 0.7483 - val_loss: 0.5196 - val_accuracy: 0.7552\n",
      "Epoch 141/200\n",
      "18/18 [==============================] - 0s 1ms/step - loss: 0.4997 - accuracy: 0.7448 - val_loss: 0.5191 - val_accuracy: 0.7552\n",
      "Epoch 142/200\n",
      "18/18 [==============================] - 0s 1ms/step - loss: 0.4991 - accuracy: 0.7448 - val_loss: 0.5187 - val_accuracy: 0.7552\n",
      "Epoch 143/200\n",
      "18/18 [==============================] - 0s 1ms/step - loss: 0.4985 - accuracy: 0.7448 - val_loss: 0.5182 - val_accuracy: 0.7552\n",
      "Epoch 144/200\n",
      "18/18 [==============================] - 0s 1ms/step - loss: 0.4979 - accuracy: 0.7448 - val_loss: 0.5178 - val_accuracy: 0.7552\n",
      "Epoch 145/200\n",
      "18/18 [==============================] - 0s 1ms/step - loss: 0.4974 - accuracy: 0.7483 - val_loss: 0.5175 - val_accuracy: 0.7552\n",
      "Epoch 146/200\n",
      "18/18 [==============================] - 0s 1ms/step - loss: 0.4968 - accuracy: 0.7483 - val_loss: 0.5171 - val_accuracy: 0.7552\n",
      "Epoch 147/200\n",
      "18/18 [==============================] - 0s 1ms/step - loss: 0.4962 - accuracy: 0.7465 - val_loss: 0.5167 - val_accuracy: 0.7552\n",
      "Epoch 148/200\n",
      "18/18 [==============================] - 0s 1ms/step - loss: 0.4957 - accuracy: 0.7465 - val_loss: 0.5163 - val_accuracy: 0.7500\n",
      "Epoch 149/200\n",
      "18/18 [==============================] - 0s 1ms/step - loss: 0.4952 - accuracy: 0.7465 - val_loss: 0.5160 - val_accuracy: 0.7500\n",
      "Epoch 150/200\n",
      "18/18 [==============================] - 0s 1ms/step - loss: 0.4946 - accuracy: 0.7413 - val_loss: 0.5156 - val_accuracy: 0.7500\n",
      "Epoch 151/200\n",
      "18/18 [==============================] - 0s 1ms/step - loss: 0.4941 - accuracy: 0.7396 - val_loss: 0.5153 - val_accuracy: 0.7500\n",
      "Epoch 152/200\n",
      "18/18 [==============================] - 0s 1ms/step - loss: 0.4936 - accuracy: 0.7396 - val_loss: 0.5150 - val_accuracy: 0.7448\n",
      "Epoch 153/200\n",
      "18/18 [==============================] - 0s 1ms/step - loss: 0.4930 - accuracy: 0.7413 - val_loss: 0.5146 - val_accuracy: 0.7448\n",
      "Epoch 154/200\n",
      "18/18 [==============================] - 0s 1ms/step - loss: 0.4925 - accuracy: 0.7413 - val_loss: 0.5143 - val_accuracy: 0.7448\n",
      "Epoch 155/200\n",
      "18/18 [==============================] - 0s 1ms/step - loss: 0.4920 - accuracy: 0.7413 - val_loss: 0.5140 - val_accuracy: 0.7448\n",
      "Epoch 156/200\n",
      "18/18 [==============================] - 0s 1ms/step - loss: 0.4915 - accuracy: 0.7413 - val_loss: 0.5137 - val_accuracy: 0.7448\n",
      "Epoch 157/200\n",
      "18/18 [==============================] - 0s 1ms/step - loss: 0.4910 - accuracy: 0.7431 - val_loss: 0.5134 - val_accuracy: 0.7448\n",
      "Epoch 158/200\n",
      "18/18 [==============================] - 0s 1ms/step - loss: 0.4905 - accuracy: 0.7431 - val_loss: 0.5132 - val_accuracy: 0.7448\n",
      "Epoch 159/200\n",
      "18/18 [==============================] - 0s 1ms/step - loss: 0.4900 - accuracy: 0.7431 - val_loss: 0.5129 - val_accuracy: 0.7448\n",
      "Epoch 160/200\n",
      "18/18 [==============================] - 0s 1ms/step - loss: 0.4896 - accuracy: 0.7448 - val_loss: 0.5127 - val_accuracy: 0.7448\n",
      "Epoch 161/200\n",
      "18/18 [==============================] - 0s 1ms/step - loss: 0.4891 - accuracy: 0.7465 - val_loss: 0.5124 - val_accuracy: 0.7448\n",
      "Epoch 162/200\n",
      "18/18 [==============================] - 0s 1ms/step - loss: 0.4887 - accuracy: 0.7465 - val_loss: 0.5122 - val_accuracy: 0.7448\n",
      "Epoch 163/200\n",
      "18/18 [==============================] - 0s 1ms/step - loss: 0.4882 - accuracy: 0.7465 - val_loss: 0.5119 - val_accuracy: 0.7448\n",
      "Epoch 164/200\n",
      "18/18 [==============================] - 0s 1ms/step - loss: 0.4878 - accuracy: 0.7465 - val_loss: 0.5117 - val_accuracy: 0.7448\n",
      "Epoch 165/200\n",
      "18/18 [==============================] - 0s 1ms/step - loss: 0.4874 - accuracy: 0.7448 - val_loss: 0.5115 - val_accuracy: 0.7448\n",
      "Epoch 166/200\n",
      "18/18 [==============================] - 0s 1ms/step - loss: 0.4869 - accuracy: 0.7448 - val_loss: 0.5113 - val_accuracy: 0.7448\n",
      "Epoch 167/200\n",
      "18/18 [==============================] - 0s 2ms/step - loss: 0.4865 - accuracy: 0.7448 - val_loss: 0.5111 - val_accuracy: 0.7448\n",
      "Epoch 168/200\n",
      "18/18 [==============================] - 0s 1ms/step - loss: 0.4861 - accuracy: 0.7431 - val_loss: 0.5109 - val_accuracy: 0.7448\n",
      "Epoch 169/200\n",
      "18/18 [==============================] - 0s 1ms/step - loss: 0.4857 - accuracy: 0.7465 - val_loss: 0.5107 - val_accuracy: 0.7448\n",
      "Epoch 170/200\n",
      "18/18 [==============================] - 0s 1ms/step - loss: 0.4853 - accuracy: 0.7465 - val_loss: 0.5105 - val_accuracy: 0.7448\n",
      "Epoch 171/200\n",
      "18/18 [==============================] - 0s 1ms/step - loss: 0.4849 - accuracy: 0.7483 - val_loss: 0.5103 - val_accuracy: 0.7448\n",
      "Epoch 172/200\n",
      "18/18 [==============================] - 0s 1ms/step - loss: 0.4845 - accuracy: 0.7483 - val_loss: 0.5101 - val_accuracy: 0.7448\n",
      "Epoch 173/200\n",
      "18/18 [==============================] - 0s 1ms/step - loss: 0.4841 - accuracy: 0.7500 - val_loss: 0.5099 - val_accuracy: 0.7448\n",
      "Epoch 174/200\n",
      "18/18 [==============================] - 0s 1ms/step - loss: 0.4837 - accuracy: 0.7517 - val_loss: 0.5098 - val_accuracy: 0.7448\n",
      "Epoch 175/200\n",
      "18/18 [==============================] - 0s 1ms/step - loss: 0.4833 - accuracy: 0.7517 - val_loss: 0.5096 - val_accuracy: 0.7448\n",
      "Epoch 176/200\n",
      "18/18 [==============================] - 0s 1ms/step - loss: 0.4829 - accuracy: 0.7535 - val_loss: 0.5094 - val_accuracy: 0.7448\n",
      "Epoch 177/200\n",
      "18/18 [==============================] - 0s 1ms/step - loss: 0.4825 - accuracy: 0.7535 - val_loss: 0.5092 - val_accuracy: 0.7448\n",
      "Epoch 178/200\n",
      "18/18 [==============================] - 0s 1ms/step - loss: 0.4822 - accuracy: 0.7535 - val_loss: 0.5091 - val_accuracy: 0.7448\n",
      "Epoch 179/200\n",
      "18/18 [==============================] - 0s 1ms/step - loss: 0.4818 - accuracy: 0.7535 - val_loss: 0.5089 - val_accuracy: 0.7500\n",
      "Epoch 180/200\n",
      "18/18 [==============================] - 0s 1ms/step - loss: 0.4814 - accuracy: 0.7535 - val_loss: 0.5088 - val_accuracy: 0.7500\n",
      "Epoch 181/200\n",
      "18/18 [==============================] - 0s 1ms/step - loss: 0.4811 - accuracy: 0.7535 - val_loss: 0.5086 - val_accuracy: 0.7500\n",
      "Epoch 182/200\n",
      "18/18 [==============================] - 0s 1ms/step - loss: 0.4807 - accuracy: 0.7535 - val_loss: 0.5085 - val_accuracy: 0.7500\n",
      "Epoch 183/200\n",
      "18/18 [==============================] - 0s 1ms/step - loss: 0.4804 - accuracy: 0.7535 - val_loss: 0.5084 - val_accuracy: 0.7500\n",
      "Epoch 184/200\n",
      "18/18 [==============================] - 0s 1ms/step - loss: 0.4801 - accuracy: 0.7535 - val_loss: 0.5082 - val_accuracy: 0.7448\n",
      "Epoch 185/200\n",
      "18/18 [==============================] - 0s 1ms/step - loss: 0.4797 - accuracy: 0.7535 - val_loss: 0.5081 - val_accuracy: 0.7448\n",
      "Epoch 186/200\n",
      "18/18 [==============================] - 0s 1ms/step - loss: 0.4794 - accuracy: 0.7535 - val_loss: 0.5080 - val_accuracy: 0.7500\n",
      "Epoch 187/200\n",
      "18/18 [==============================] - 0s 1ms/step - loss: 0.4790 - accuracy: 0.7535 - val_loss: 0.5079 - val_accuracy: 0.7500\n",
      "Epoch 188/200\n",
      "18/18 [==============================] - 0s 1ms/step - loss: 0.4787 - accuracy: 0.7535 - val_loss: 0.5077 - val_accuracy: 0.7500\n",
      "Epoch 189/200\n",
      "18/18 [==============================] - 0s 1ms/step - loss: 0.4784 - accuracy: 0.7552 - val_loss: 0.5076 - val_accuracy: 0.7500\n",
      "Epoch 190/200\n",
      "18/18 [==============================] - 0s 1ms/step - loss: 0.4781 - accuracy: 0.7535 - val_loss: 0.5075 - val_accuracy: 0.7500\n",
      "Epoch 191/200\n",
      "18/18 [==============================] - 0s 1ms/step - loss: 0.4778 - accuracy: 0.7535 - val_loss: 0.5074 - val_accuracy: 0.7500\n",
      "Epoch 192/200\n",
      "18/18 [==============================] - 0s 1ms/step - loss: 0.4775 - accuracy: 0.7535 - val_loss: 0.5073 - val_accuracy: 0.7500\n",
      "Epoch 193/200\n",
      "18/18 [==============================] - 0s 1ms/step - loss: 0.4772 - accuracy: 0.7535 - val_loss: 0.5072 - val_accuracy: 0.7500\n",
      "Epoch 194/200\n",
      "18/18 [==============================] - 0s 1ms/step - loss: 0.4769 - accuracy: 0.7535 - val_loss: 0.5070 - val_accuracy: 0.7500\n",
      "Epoch 195/200\n",
      "18/18 [==============================] - 0s 1ms/step - loss: 0.4766 - accuracy: 0.7535 - val_loss: 0.5069 - val_accuracy: 0.7500\n",
      "Epoch 196/200\n",
      "18/18 [==============================] - 0s 1ms/step - loss: 0.4763 - accuracy: 0.7535 - val_loss: 0.5068 - val_accuracy: 0.7500\n",
      "Epoch 197/200\n",
      "18/18 [==============================] - 0s 1ms/step - loss: 0.4760 - accuracy: 0.7535 - val_loss: 0.5067 - val_accuracy: 0.7500\n",
      "Epoch 198/200\n",
      "18/18 [==============================] - 0s 1ms/step - loss: 0.4758 - accuracy: 0.7535 - val_loss: 0.5066 - val_accuracy: 0.7500\n",
      "Epoch 199/200\n",
      "18/18 [==============================] - 0s 1ms/step - loss: 0.4755 - accuracy: 0.7535 - val_loss: 0.5065 - val_accuracy: 0.7500\n",
      "Epoch 200/200\n",
      "18/18 [==============================] - 0s 1ms/step - loss: 0.4752 - accuracy: 0.7535 - val_loss: 0.5064 - val_accuracy: 0.7500\n"
     ]
    }
   ],
   "source": [
    "# Fit(Train) the Model\n",
    "\n",
    "# Compile the model with Optimizer, Loss Function and Metrics\n",
    "# Roc-Auc is not available in Keras as an off the shelf metric yet, so we will skip it here.\n",
    "\n",
    "model_1.compile(SGD(lr = .003), \"binary_crossentropy\", metrics=[\"accuracy\"])\n",
    "run_hist_1 = model_1.fit(X_train_norm, y_train, validation_data=(X_test_norm, y_test), epochs=200)\n",
    "# the fit function returns the run history. \n",
    "# It is very convenient, as it contains information about the model fit, iterations etc."
   ]
  },
  {
   "cell_type": "code",
   "execution_count": 18,
   "metadata": {},
   "outputs": [],
   "source": [
    "## Like we did for the Random Forest, we generate two kinds of predictions\n",
    "#  One is a hard decision, the other is a probabilitistic score.\n",
    "\n",
    "y_pred_class_nn_1 = model_1.predict_classes(X_test_norm)\n",
    "y_pred_prob_nn_1 = model_1.predict(X_test_norm)"
   ]
  },
  {
   "cell_type": "code",
   "execution_count": 19,
   "metadata": {},
   "outputs": [
    {
     "data": {
      "text/plain": [
       "array([[1],\n",
       "       [1],\n",
       "       [0],\n",
       "       [0],\n",
       "       [0],\n",
       "       [1],\n",
       "       [0],\n",
       "       [0],\n",
       "       [1],\n",
       "       [0]])"
      ]
     },
     "execution_count": 19,
     "metadata": {},
     "output_type": "execute_result"
    }
   ],
   "source": [
    "# Let's check out the outputs to get a feel for how keras apis work.\n",
    "y_pred_class_nn_1[:10]"
   ]
  },
  {
   "cell_type": "code",
   "execution_count": null,
   "metadata": {},
   "outputs": [],
   "source": [
    "y_pred_prob_nn_1[:10]"
   ]
  },
  {
   "cell_type": "code",
   "execution_count": null,
   "metadata": {},
   "outputs": [],
   "source": [
    "# Print model performance and plot the roc curve\n",
    "print('accuracy is {:.3f}'.format(accuracy_score(y_test,y_pred_class_nn_1)))\n",
    "print('roc-auc is {:.3f}'.format(roc_auc_score(y_test,y_pred_prob_nn_1)))\n",
    "\n",
    "plot_roc(y_test, y_pred_prob_nn_1, 'NN')"
   ]
  },
  {
   "cell_type": "markdown",
   "metadata": {},
   "source": [
    "There may be some variation in exact numbers due to randomness, but you should get results in the same ballpark as the Random Forest - between 75% and 85% accuracy, between .8 and .9 for AUC."
   ]
  },
  {
   "cell_type": "markdown",
   "metadata": {},
   "source": [
    "Let's look at the `run_hist_1` object that was created, specifically its `history` attribute."
   ]
  },
  {
   "cell_type": "code",
   "execution_count": null,
   "metadata": {},
   "outputs": [],
   "source": [
    "run_hist_1.history.keys()"
   ]
  },
  {
   "cell_type": "markdown",
   "metadata": {},
   "source": [
    "Let's plot the training loss and the validation loss over the different epochs and see how it looks."
   ]
  },
  {
   "cell_type": "code",
   "execution_count": null,
   "metadata": {},
   "outputs": [],
   "source": [
    "fig, ax = plt.subplots()\n",
    "ax.plot(run_hist_1.history[\"loss\"],'r', marker='.', label=\"Train Loss\")\n",
    "ax.plot(run_hist_1.history[\"val_loss\"],'b', marker='.', label=\"Validation Loss\")\n",
    "ax.legend()"
   ]
  },
  {
   "cell_type": "markdown",
   "metadata": {},
   "source": [
    "Looks like the losses are still going down on both the training set and the validation set.  This suggests that the model might benefit from further training.  Let's train the model a little more and see what happens. Note that it will pick up from where it left off. Train for 1000 more epochs."
   ]
  },
  {
   "cell_type": "code",
   "execution_count": null,
   "metadata": {
    "scrolled": true
   },
   "outputs": [],
   "source": [
    "## Note that when we call \"fit\" again, it picks up where it left off\n",
    "run_hist_1b = model_1.fit(X_train_norm, y_train, validation_data=(X_test_norm, y_test), epochs=1000)"
   ]
  },
  {
   "cell_type": "code",
   "execution_count": null,
   "metadata": {},
   "outputs": [],
   "source": [
    "n = len(run_hist_1.history[\"loss\"])\n",
    "m = len(run_hist_1b.history['loss'])\n",
    "fig, ax = plt.subplots(figsize=(16, 8))\n",
    "\n",
    "ax.plot(range(n), run_hist_1.history[\"loss\"],'r', marker='.', label=\"Train Loss - Run 1\")\n",
    "ax.plot(range(n, n+m), run_hist_1b.history[\"loss\"], 'hotpink', marker='.', label=\"Train Loss - Run 2\")\n",
    "\n",
    "ax.plot(range(n), run_hist_1.history[\"val_loss\"],'b', marker='.', label=\"Validation Loss - Run 1\")\n",
    "ax.plot(range(n, n+m), run_hist_1b.history[\"val_loss\"], 'LightSkyBlue', marker='.',  label=\"Validation Loss - Run 2\")\n",
    "\n",
    "ax.legend()"
   ]
  },
  {
   "cell_type": "markdown",
   "metadata": {},
   "source": [
    "Note that this graph begins where the other left off.  While the training loss is still going down, it looks like the validation loss has stabilized (or even gotten worse!).  This suggests that our network will not benefit from further training.  What is the appropriate number of epochs?"
   ]
  },
  {
   "cell_type": "code",
   "execution_count": null,
   "metadata": {},
   "outputs": [],
   "source": []
  },
  {
   "cell_type": "code",
   "execution_count": null,
   "metadata": {},
   "outputs": [],
   "source": []
  },
  {
   "cell_type": "markdown",
   "metadata": {},
   "source": [
    "## Exercise\n",
    "Now it's your turn.  Do the following in the cells below:\n",
    "- Build a model with two hidden layers, each with 6 nodes\n",
    "- Use the \"relu\" activation function for the hidden layers, and \"sigmoid\" for the final layer\n",
    "- Use a learning rate of .003 and train for 1500 epochs\n",
    "- Graph the trajectory of the loss functions, accuracy on both train and test set\n",
    "- Plot the roc curve for the predictions\n",
    "\n",
    "Experiment with different learning rates, numbers of epochs, and network structures"
   ]
  },
  {
   "cell_type": "code",
   "execution_count": null,
   "metadata": {},
   "outputs": [],
   "source": []
  },
  {
   "cell_type": "code",
   "execution_count": null,
   "metadata": {},
   "outputs": [],
   "source": []
  },
  {
   "cell_type": "code",
   "execution_count": null,
   "metadata": {},
   "outputs": [],
   "source": []
  },
  {
   "cell_type": "code",
   "execution_count": null,
   "metadata": {},
   "outputs": [],
   "source": []
  }
 ],
 "metadata": {
  "kernelspec": {
   "display_name": "Python 3",
   "language": "python",
   "name": "python3"
  },
  "language_info": {
   "codemirror_mode": {
    "name": "ipython",
    "version": 3
   },
   "file_extension": ".py",
   "mimetype": "text/x-python",
   "name": "python",
   "nbconvert_exporter": "python",
   "pygments_lexer": "ipython3",
   "version": "3.8.10"
  }
 },
 "nbformat": 4,
 "nbformat_minor": 2
}
